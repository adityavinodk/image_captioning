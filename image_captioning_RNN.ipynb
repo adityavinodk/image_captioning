{
 "cells": [
  {
   "cell_type": "code",
   "execution_count": 2,
   "metadata": {},
   "outputs": [
    {
     "name": "stderr",
     "output_type": "stream",
     "text": [
      "Using TensorFlow backend.\n"
     ]
    }
   ],
   "source": [
    "import json as js\n",
    "from tqdm import tqdm\n",
    "import string\n",
    "import sys\n",
    "import keras\n",
    "import tensorflow as tf\n",
    "import json\n",
    "import numpy as np\n",
    "import os\n",
    "import dask.array as da\n",
    "os.environ[\"CUDA_DEVICE_ORDER\"]=\"0\"\n",
    "os.environ[\"CUDA_VISIBLE_DEVICES\"]=\"0\"\n",
    "from tensorflow.keras.layers import Input,Dropout,Dense,Embedding,LSTM,add\n",
    "from tensorflow.keras.models import Model, load_model\n",
    "from tensorflow.keras.preprocessing.text import Tokenizer as Tokenizer\n",
    "from tensorflow.keras.utils import plot_model,to_categorical\n",
    "from tensorflow.keras.callbacks import ModelCheckpoint"
   ]
  },
  {
   "cell_type": "code",
   "execution_count": 3,
   "metadata": {
    "scrolled": true
   },
   "outputs": [
    {
     "name": "stdout",
     "output_type": "stream",
     "text": [
      "Embedding and Descriptions dask array haven't been saved, please run text_preprocessing.py\n"
     ]
    },
    {
     "name": "stderr",
     "output_type": "stream",
     "text": [
      "WARNING: Logging before flag parsing goes to stderr.\n",
      "E1127 13:27:27.761278 4539563456 alias.py:221] Invalid alias: The name clear can't be aliased because it is another magic command.\n",
      "E1127 13:27:27.762542 4539563456 alias.py:221] Invalid alias: The name more can't be aliased because it is another magic command.\n",
      "E1127 13:27:27.763648 4539563456 alias.py:221] Invalid alias: The name less can't be aliased because it is another magic command.\n",
      "E1127 13:27:27.764656 4539563456 alias.py:221] Invalid alias: The name man can't be aliased because it is another magic command.\n"
     ]
    }
   ],
   "source": [
    "if \"all_descriptions_train.zarr\" in os.listdir('.') and \"embedding_train_128.zarr\" in os.listdir('.'):\n",
    "    with tf.device('/cpu:0'):\n",
    "        embedding_train = da.from_zarr(\"embedding_train_128.zarr\")\n",
    "        desc_train = da.from_zarr(\"all_descriptions_train.zarr\")\n",
    "else: \n",
    "    print(\"Embedding and Descriptions dask array haven't been saved, please run text_preprocessing.py\")\n",
    "    exit()"
   ]
  },
  {
   "cell_type": "code",
   "execution_count": null,
   "metadata": {},
   "outputs": [],
   "source": [
    "if \"all_descriptions_validation.zarr\" in os.listdir('.') and \"embedding_validation_128.zarr\" in os.listdir('.'):\n",
    "    with tf.device('/cpu:0'):\n",
    "        embedding_validation = da.from_zarr(\"embedding_validation_128.zarr\")\n",
    "        desc_validation = da.from_zarr(\"all_descriptions_validation.zarr\")\n",
    "else: \n",
    "    print(\"Embedding and Descriptions dask array haven't been saved, please run text_preprocessing.py\")\n",
    "    exit()"
   ]
  }
 ],
 "metadata": {
  "kernelspec": {
   "display_name": "Python 3",
   "language": "python",
   "name": "python3"
  },
  "language_info": {
   "codemirror_mode": {
    "name": "ipython",
    "version": 3
   },
   "file_extension": ".py",
   "mimetype": "text/x-python",
   "name": "python",
   "nbconvert_exporter": "python",
   "pygments_lexer": "ipython3",
   "version": "3.7.4"
  }
 },
 "nbformat": 4,
 "nbformat_minor": 4
}
