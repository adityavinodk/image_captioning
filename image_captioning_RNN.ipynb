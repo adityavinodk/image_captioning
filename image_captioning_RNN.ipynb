{
 "cells": [
  {
   "cell_type": "code",
   "execution_count": null,
   "metadata": {},
   "outputs": [],
   "source": [
    "import json as js\n",
    "from tqdm import tqdm\n",
    "import string\n",
    "import sys\n",
    "import keras\n",
    "import tensorflow as tf\n",
    "from tensorflow.keras.layers import Input,Dropout,Dense,Embedding,LSTM,add\n",
    "from tensorflow.keras.models import Model\n",
    "from tensorflow.keras.preprocessing.text import Tokenizer as Tokenizer\n",
    "from tensorflow.keras.utils import plot_model,to_categorical\n",
    "from tensorflow.keras.callbacks import ModelCheckpoint"
   ]
  },
  {
   "cell_type": "code",
   "execution_count": null,
   "metadata": {},
   "outputs": [],
   "source": [
    "with open(\"train_captions.json\") as file:\n",
    "    tcap = js.load(file)\n",
    "with open(\"test_captions.json\") as file:\n",
    "    testcap = js.load(file)\n",
    "with open(\"validation_captions.json\") as file:\n",
    "    vcap = js.load(file)\n",
    "    \n",
    "table = str.maketrans('', '', string.punctuation)\n",
    "for k in [tcap,testcap,vcap]:\n",
    "    tcap_list = list(k.keys())\n",
    "    for i in tqdm(range(len(tcap_list))):\n",
    "        cap = k[tcap_list[i]]\n",
    "        for j in range(cap[0]):\n",
    "            desc = cap[1][j]\n",
    "            desc = desc.split()\n",
    "            desc = [word.lower() for word in desc]\n",
    "            desc = [w.translate(table) for w in desc]\n",
    "            desc = [word for word in desc if len(word)>1]\n",
    "            desc = [word for word in desc if word.isalpha()]\n",
    "            cap[1][j] =  ' '.join(desc)\n",
    "        k[tcap_list[i]] = cap\n",
    "\n",
    "with open(\"train_captions.json\",'w') as file:\n",
    "    js.dump(tcap, file)\n",
    "with open(\"test_captions.json\",'w') as file:\n",
    "    js.dump(testcap, file)\n",
    "with open(\"validation_captions.json\",'w') as file:\n",
    "    js.dump(vcap, file)"
   ]
  }
 ],
 "metadata": {
  "kernelspec": {
   "display_name": "Python 3",
   "language": "python",
   "name": "python3"
  },
  "language_info": {
   "codemirror_mode": {
    "name": "ipython",
    "version": 3
   },
   "file_extension": ".py",
   "mimetype": "text/x-python",
   "name": "python",
   "nbconvert_exporter": "python",
   "pygments_lexer": "ipython3",
   "version": "3.7.4"
  }
 },
 "nbformat": 4,
 "nbformat_minor": 4
}
