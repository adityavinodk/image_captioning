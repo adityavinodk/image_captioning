{
 "nbformat": 4,
 "nbformat_minor": 2,
 "metadata": {
  "language_info": {
   "name": "python",
   "codemirror_mode": {
    "name": "ipython",
    "version": 3
   },
   "version": "3.7.4"
  },
  "orig_nbformat": 2,
  "file_extension": ".py",
  "mimetype": "text/x-python",
  "name": "python",
  "npconvert_exporter": "python",
  "pygments_lexer": "ipython3",
  "version": 3
 },
 "cells": [
  {
   "cell_type": "code",
   "execution_count": 1,
   "metadata": {},
   "outputs": [],
   "source": [
    "import json\n",
    "import os\n",
    "import numpy as np\n",
    "import dask.array as da\n",
    "os.environ[\"CUDA_DEVICE_ORDER\"]=\"PCI_BUS_ID\"\n",
    "os.environ[\"CUDA_VISIBLE_DEVICES\"]=\"0,1\"\n",
    "import tensorflow as tf\n",
    "from tensorflow.keras.preprocessing.image import ImageDataGenerator\n",
    "from tensorflow.keras.models import load_model\n",
    "from tensorflow.keras.callbacks import EarlyStopping, ReduceLROnPlateau, ModelCheckpoint, TensorBoard\n",
    "from sklearn.preprocessing import MultiLabelBinarizer"
   ]
  },
  {
   "cell_type": "code",
   "execution_count": 2,
   "metadata": {},
   "outputs": [],
   "source": [
    "if 'labels.npy' not in os.listdir():\n",
    "    with open('annotations/instances_train2014.json','r') as file:\n",
    "        instances = json.load(file)\n",
    "\n",
    "    labelsList = np.array([category['name'] for category in instances['categories']])\n",
    "    np.save('labels.npy', labelsList)\n",
    "    del instances\n",
    "\n",
    "labelsList = np.load('labels.npy', allow_pickle=True)"
   ]
  },
  {
   "cell_type": "code",
   "execution_count": 3,
   "metadata": {},
   "outputs": [],
   "source": [
    "target_size = (128,128)\n",
    "test_data_dir = 'test'\n",
    "nb_test_samples = len(os.listdir(test_data_dir))\n",
    "epochs = 50\n",
    "batch_size = 60"
   ]
  },
  {
   "cell_type": "code",
   "execution_count": 4,
   "metadata": {},
   "outputs": [
    {
     "name": "stderr",
     "output_type": "stream",
     "text": "WARNING: Logging before flag parsing goes to stderr.\nW1207 16:50:09.571961 4678651328 deprecation.py:506] From /usr/local/lib/python3.7/site-packages/tensorflow/python/ops/init_ops.py:1251: calling VarianceScaling.__init__ (from tensorflow.python.ops.init_ops) with dtype is deprecated and will be removed in a future version.\nInstructions for updating:\nCall initializer instance with the dtype argument instead of passing it to the constructor\n"
    }
   ],
   "source": [
    "if \"best_model_cnn.h5\" in os.listdir():\n",
    "    model = load_model(\"best_model_cnn.h5\")\n",
    "else: \n",
    "    print(\"Please run CNN model in Image_captioning_CNN.ipynb\")\n",
    "    exit()\n",
    "\n",
    "if \"test_x_128_dask.zarr\" in os.listdir('.') and \"test_y_dask.zarr\" in os.listdir('.'):\n",
    "    with tf.device('/cpu:0'):\n",
    "        test_x = da.from_zarr(\"test_x_128_dask.zarr\")\n",
    "        test_y = da.from_zarr(\"test_y_dask.zarr\")\n",
    "else:\n",
    "    print(\"Test Dask Arrays haven't been set. Please run extract_labels.py beefore running this file.\")\n",
    "    exit()"
   ]
  },
  {
   "cell_type": "code",
   "execution_count": 5,
   "metadata": {},
   "outputs": [
    {
     "name": "stdout",
     "output_type": "stream",
     "text": "Accuracy of CNN model is -  0.44927272\n"
    }
   ],
   "source": [
    "test_datagen = ImageDataGenerator(rescale=1./255)\n",
    "\n",
    "with tf.device('/gpu:0'):\n",
    "    stop_early = EarlyStopping(monitor='val_loss',patience = 20)\n",
    "    reduceLR = ReduceLROnPlateau(monitor='val_loss',paitence = 20, factor=0.2, min_lr = 0.0001)\n",
    "    callbacks = [stop_early, reduceLR]\n",
    "    scores = model.evaluate_generator(\n",
    "        test_datagen.flow(test_x, test_y, batch_size=batch_size),\n",
    "        steps = nb_test_samples//batch_size,\n",
    "        callbacks = callbacks\n",
    "    )\n",
    "\n",
    "print('Accuracy of CNN model is - ', scores[1])"
   ]
  }
 ]
}