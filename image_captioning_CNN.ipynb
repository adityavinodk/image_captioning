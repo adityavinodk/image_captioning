{
 "cells": [
  {
   "cell_type": "code",
   "execution_count": 30,
   "metadata": {},
   "outputs": [],
   "source": [
    "import matplotlib\n",
    "matplotlib.use(\"Agg\")\n",
    "import json\n",
    "import os\n",
    "os.environ[\"CUDA_DEVICE_ORDER\"]=\"PCI_BUS_ID\"\n",
    "os.environ[\"CUDA_VISIBLE_DEVICES\"]=\"0,1\"\n",
    "# import keras\n",
    "import tensorflow as tf\n",
    "from tensorflow.keras.optimizers import Adam\n",
    "from tensorflow.keras.callbacks import EarlyStopping, ReduceLROnPlateau, ModelCheckpoint, TensorBoard\n",
    "from tensorflow.keras.preprocessing.image import ImageDataGenerator, array_to_img, img_to_array, load_img\n",
    "from tensorflow.keras.regularizers import l1\n",
    "from tensorflow.keras.models import load_model\n",
    "from sklearn.preprocessing import MultiLabelBinarizer\n",
    "from cnn_model import ImageClassificationModel\n",
    "\n",
    "from PIL import Image\n",
    "import matplotlib.pyplot as plt\n",
    "import os\n",
    "import pickle as pkl\n",
    "import dask.array as da\n",
    "import numpy as np"
   ]
  },
  {
   "cell_type": "code",
   "execution_count": 2,
   "metadata": {},
   "outputs": [],
   "source": [
    "# with open('train_annotations.json', 'r') as file:\n",
    "#     train_annotations = json.load(file)\n",
    "\n",
    "# with open('validation_annotations.json', 'r') as file:\n",
    "#     validation_annotations = json.load(file)"
   ]
  },
  {
   "cell_type": "code",
   "execution_count": 12,
   "metadata": {},
   "outputs": [],
   "source": [
    "target_size = (128,128)\n",
    "train_data_dir = 'train'\n",
    "validation_data_dir = 'validation'\n",
    "nb_train_samples = len(os.listdir(train_data_dir))\n",
    "nb_validation_samples = len(os.listdir(validation_data_dir))\n",
    "epochs = 10\n",
    "batch_size = 60"
   ]
  },
  {
   "cell_type": "code",
   "execution_count": 4,
   "metadata": {},
   "outputs": [],
   "source": [
    "with open('annotations/instances_train2014.json','r') as file:\n",
    "    instances = json.load(file)\n",
    "\n",
    "labels = np.array([category['name'] for category in instances['categories']])\n",
    "del instances"
   ]
  },
  {
   "cell_type": "code",
   "execution_count": 5,
   "metadata": {},
   "outputs": [],
   "source": [
    "# imagePaths = list(paths.list_images('train'))\n",
    "# shape = (len(imagePaths),)+target_size+(3,)\n",
    "# train_x = np.zeros(shape=shape, dtype=np.float16)\n",
    "# train_y = []\n",
    "# for i in tqdm(range(len(imagePaths))):\n",
    "#     imagePath = imagePaths[i]\n",
    "#     image = Image.open(imagePath)\n",
    "#     image = image.resize(size=target_size, resample=Image.LANCZOS)\n",
    "#     image = np.array(image)\n",
    "#     if (len(image.shape) == 2):\n",
    "#         image = np.repeat(image[:, :, np.newaxis], 3, axis=2)\n",
    "#     # print(image.shape)\n",
    "#     train_x[i]=image\n",
    "#     labels = set()\n",
    "#     for category in train_annotations[imagePath.split(os.path.sep)[-1]]['categories']: labels.add(category)\n",
    "#     train_y.append(list(labels))\n"
   ]
  },
  {
   "cell_type": "code",
   "execution_count": 6,
   "metadata": {},
   "outputs": [],
   "source": [
    "train_x = ((np.load('train_x_128.npy', allow_pickle=True)).astype(int)).astype('uint8')\n",
    "train_x = da.from_array(train_x, chunks = (2481,128,128,3))\n",
    "train_y = np.load('train_y.npy', allow_pickle=True)\n",
    "train_y = np.array(train_y)\n",
    "mlb = MultiLabelBinarizer(labels)\n",
    "train_y = mlb.fit_transform(train_y)"
   ]
  },
  {
   "cell_type": "code",
   "execution_count": 7,
   "metadata": {},
   "outputs": [],
   "source": [
    "# imagePaths = list(paths.list_images('validation'))\n",
    "# shape = (len(imagePaths),)+target_size+(3,)\n",
    "# validation_x = np.zeros(shape=shape, dtype=np.float16)\n",
    "# validation_y = []\n",
    "# for i in tqdm(range(len(imagePaths))):\n",
    "#     imagePath = imagePaths[i]\n",
    "#     image = Image.open(imagePath)\n",
    "#     image = image.resize(size=target_size, resample=Image.LANCZOS)\n",
    "#     image = np.array(image)\n",
    "#     if (len(image.shape) == 2):\n",
    "#         image = np.repeat(image[:, :, np.newaxis], 3, axis=2)\n",
    "#     # print(image.shape)\n",
    "#     validation_x[i]=image\n",
    "#     labels = set()\n",
    "#     for category in validation_annotations[imagePaths[i].split(os.path.sep)[-1]]['categories']: labels.add(category)\n",
    "#     validation_y.append(list(labels))"
   ]
  },
  {
   "cell_type": "code",
   "execution_count": 8,
   "metadata": {},
   "outputs": [],
   "source": [
    "validation_x = ((np.load('validation_x_128.npy', allow_pickle=True)).astype(int)).astype('uint8')\n",
    "validation_x = da.from_array(validation_x, chunks = (827,128,128,3))\n",
    "validation_y = np.load('validation_y.npy', allow_pickle=True)\n",
    "validation_y = np.array(validation_y)\n",
    "mlb = MultiLabelBinarizer(labels)\n",
    "validation_y = mlb.fit_transform(validation_y)"
   ]
  },
  {
   "cell_type": "code",
   "execution_count": 13,
   "metadata": {},
   "outputs": [],
   "source": [
    "train_datagen = ImageDataGenerator(\n",
    "        rotation_range=25, \n",
    "        width_shift_range=0.1,\n",
    "        height_shift_range=0.1,\n",
    "        rescale=1./255,\n",
    "        shear_range=0.2,\n",
    "        fill_mode='nearest',\n",
    "        zoom_range=0.2,\n",
    "        horizontal_flip=True)\n",
    "\n",
    "validation_datagen = ImageDataGenerator(rescale=1./255)\n",
    "\n",
    "model = ImageClassificationModel.build(target_size[0], target_size[1], len(labels), 'softmax')\n",
    "model.compile(loss='categorical_crossentropy', optimizer=Adam(lr=0.0001, beta_1=0.9, beta_2=0.95), metrics=['accuracy'])"
   ]
  },
  {
   "cell_type": "code",
   "execution_count": 14,
   "metadata": {
    "scrolled": false
   },
   "outputs": [
    {
     "name": "stdout",
     "output_type": "stream",
     "text": [
      "Epoch 1/10\n",
      "827/827 [==============================] - 482s 583ms/step - loss: 10.7868 - accuracy: 0.5250 - val_loss: 10.4687 - val_accuracy: 0.5466\n",
      "Epoch 2/10\n",
      "827/827 [==============================] - 197s 238ms/step - loss: 10.1364 - accuracy: 0.5210 - val_loss: 9.9536 - val_accuracy: 0.5524\n",
      "Epoch 3/10\n",
      "827/827 [==============================] - 211s 256ms/step - loss: 9.8962 - accuracy: 0.5182 - val_loss: 9.7727 - val_accuracy: 0.5276\n",
      "Epoch 4/10\n",
      "827/827 [==============================] - 216s 261ms/step - loss: 9.7336 - accuracy: 0.5190 - val_loss: 10.1845 - val_accuracy: 0.5162\n",
      "Epoch 5/10\n",
      "827/827 [==============================] - 204s 247ms/step - loss: 9.6126 - accuracy: 0.5209 - val_loss: 10.0842 - val_accuracy: 0.5408\n",
      "Epoch 6/10\n",
      "827/827 [==============================] - 256s 309ms/step - loss: 9.5307 - accuracy: 0.5177 - val_loss: 9.5931 - val_accuracy: 0.5104\n",
      "Epoch 7/10\n",
      "827/827 [==============================] - 243s 294ms/step - loss: 9.4420 - accuracy: 0.5208 - val_loss: 9.7326 - val_accuracy: 0.5184\n",
      "Epoch 8/10\n",
      "827/827 [==============================] - 220s 266ms/step - loss: 9.3759 - accuracy: 0.5187 - val_loss: 9.9627 - val_accuracy: 0.5188\n",
      "Epoch 9/10\n",
      "827/827 [==============================] - 203s 245ms/step - loss: 9.3195 - accuracy: 0.5191 - val_loss: 12.0636 - val_accuracy: 0.4570\n"
     ]
    },
    {
     "data": {
      "text/plain": [
       "<tensorflow.python.keras.callbacks.History at 0x26222e024c8>"
      ]
     },
     "execution_count": 14,
     "metadata": {},
     "output_type": "execute_result"
    }
   ],
   "source": [
    "stop_early = EarlyStopping(monitor='val_loss', patience=3)\n",
    "reduceLR = ReduceLROnPlateau(monitor='val_loss', paitence = 1, factor=0.2, min_lr = 0.0001)\n",
    "callbacks = [stop_early, reduceLR]\n",
    "model.fit_generator(\n",
    "    train_datagen.flow(train_x, train_y, batch_size= batch_size),\n",
    "    steps_per_epoch = nb_train_samples//batch_size,\n",
    "    epochs = epochs,\n",
    "    validation_data=validation_datagen.flow(validation_x, validation_y, batch_size=batch_size),\n",
    "    validation_steps = nb_validation_samples//batch_size,\n",
    "    callbacks = callbacks)"
   ]
  },
  {
   "cell_type": "code",
   "execution_count": 31,
   "metadata": {},
   "outputs": [],
   "source": [
    "# model.save('Coco_Classification.h5')\n",
    "# f = open('mlb.pickle', 'wb')\n",
    "# f.write(pkl.dumps(mlb))\n",
    "# f.close()"
   ]
  },
  {
   "cell_type": "code",
   "execution_count": 35,
   "metadata": {},
   "outputs": [
    {
     "data": {
      "text/plain": [
       "tensorflow.python.keras.engine.training.Model"
      ]
     },
     "execution_count": 35,
     "metadata": {},
     "output_type": "execute_result"
    }
   ],
   "source": [
    "# model_1 = load_model('Coco_Classification.h5')\n",
    "type(model_1)"
   ]
  },
  {
   "cell_type": "code",
   "execution_count": 111,
   "metadata": {},
   "outputs": [],
   "source": [
    "img = Image.open('test/COCO_train2014_000000349007.jpg') # image extension *.png,*.jpg\n",
    "img = img.resize((128,128), Image.ANTIALIAS)\n",
    "# img.show()\n",
    "arr = np.array(img)\n",
    "# print(type(arr),type(train_x[0]))\n",
    "\n",
    "arr=np.expand_dims(arr,0)\n",
    "arr=arr/255\n",
    "proba = model.predict(arr)[0]\n",
    "proba= (proba*1000).astype(int)\n",
    "for x in range(len(proba)):\n",
    "    if proba[x] >100:\n",
    "        proba[x]=1\n",
    "    else:\n",
    "        proba[x]=0"
   ]
  },
  {
   "cell_type": "code",
   "execution_count": 114,
   "metadata": {},
   "outputs": [
    {
     "name": "stdout",
     "output_type": "stream",
     "text": [
      "bowl\n",
      "pizza\n",
      "dining table\n"
     ]
    }
   ],
   "source": [
    "# idxs = np.argsort(proba)[::-1]\n",
    "for i in range(len(proba)):\n",
    "    if(proba[i]==1):\n",
    "        print(labels[i])\n",
    "# print(labels)\n",
    "# print([labels[x] for x in idxs if x!=0])\n",
    "# idxs"
   ]
  },
  {
   "cell_type": "code",
   "execution_count": 54,
   "metadata": {},
   "outputs": [
    {
     "name": "stdout",
     "output_type": "stream",
     "text": [
      "0 53\n",
      "1 60\n"
     ]
    }
   ],
   "source": [
    "for (i, j) in enumerate(idxs):\n",
    "    print(i,j)"
   ]
  },
  {
   "cell_type": "code",
   "execution_count": null,
   "metadata": {},
   "outputs": [],
   "source": [
    "train_x[0][0][0].shape"
   ]
  },
  {
   "cell_type": "code",
   "execution_count": null,
   "metadata": {},
   "outputs": [],
   "source": []
  }
 ],
 "metadata": {
  "file_extension": ".py",
  "kernelspec": {
   "display_name": "Python 3",
   "language": "python",
   "name": "python3"
  },
  "language_info": {
   "codemirror_mode": {
    "name": "ipython",
    "version": 3
   },
   "file_extension": ".py",
   "mimetype": "text/x-python",
   "name": "python",
   "nbconvert_exporter": "python",
   "pygments_lexer": "ipython3",
   "version": "3.7.4"
  },
  "mimetype": "text/x-python",
  "name": "python",
  "npconvert_exporter": "python",
  "pygments_lexer": "ipython3",
  "version": 3
 },
 "nbformat": 4,
 "nbformat_minor": 2
}
